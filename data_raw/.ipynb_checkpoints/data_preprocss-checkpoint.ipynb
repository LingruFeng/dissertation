{
 "cells": [
  {
   "cell_type": "markdown",
   "metadata": {},
   "source": [
    "# MSOA Data Preprocessing"
   ]
  },
  {
   "cell_type": "code",
   "execution_count": 1,
   "metadata": {},
   "outputs": [],
   "source": [
    "# read the data and take a look at the shape\n",
    "import pandas as pd\n",
    "import geopandas as gpd\n",
    "import os\n",
    "import numpy as np"
   ]
  },
  {
   "cell_type": "markdown",
   "metadata": {},
   "source": [
    "## load data"
   ]
  },
  {
   "cell_type": "markdown",
   "metadata": {},
   "source": [
    "### read population data (2019 csv)"
   ]
  },
  {
   "cell_type": "markdown",
   "metadata": {},
   "source": [
    "source:\n",
    "https://www.ons.gov.uk/peoplepopulationandcommunity/populationandmigration/populationestimates/datasets/middlesuperoutputareamidyearpopulationestimates"
   ]
  },
  {
   "cell_type": "code",
   "execution_count": 4,
   "metadata": {},
   "outputs": [
    {
     "name": "stdout",
     "output_type": "stream",
     "text": [
      "Data frame is 6,791 x 3\n"
     ]
    }
   ],
   "source": [
    "url = 'https://raw.githubusercontent.com/LingruFeng/dissertation/main/data_raw/msoa_population_2019estimated.csv'\n",
    "df = pd.read_csv(url, low_memory=False)\n",
    "df=df.rename(columns = {\"All Ages\": \"population\"})\n",
    "print(f\"Data frame is {df.shape[0]:,} x {df.shape[1]}\")"
   ]
  },
  {
   "cell_type": "markdown",
   "metadata": {},
   "source": [
    "### read MSOA boundary data"
   ]
  },
  {
   "cell_type": "markdown",
   "metadata": {},
   "source": [
    "source:\n",
    "https://geoportal.statistics.gov.uk/datasets/ons::middle-layer-super-output-areas-december-2011-boundaries-super-generalised-clipped-bsc-ew-v3/about"
   ]
  },
  {
   "cell_type": "code",
   "execution_count": 20,
   "metadata": {},
   "outputs": [],
   "source": [
    "msoa = gpd.read_file('https://github.com/LingruFeng/dissertation/blob/main/data_raw/MSOA_boundary.gpkg?raw=true')\n",
    "msoa = msoa.to_crs('epsg:27700')"
   ]
  },
  {
   "cell_type": "markdown",
   "metadata": {},
   "source": [
    "drop useless columns"
   ]
  },
  {
   "cell_type": "code",
   "execution_count": 21,
   "metadata": {},
   "outputs": [],
   "source": [
    "drop_column = ['MSOA11NMW','BNG_E','BNG_N','LONG','LAT','Shape__Length','Shape__Area']\n",
    "msoa.drop(columns=drop_column, axis=1,inplace=True)"
   ]
  },
  {
   "cell_type": "markdown",
   "metadata": {},
   "source": [
    "filter the data, only leave england data"
   ]
  },
  {
   "cell_type": "code",
   "execution_count": 22,
   "metadata": {},
   "outputs": [
    {
     "data": {
      "text/plain": [
       "(6791, 4)"
      ]
     },
     "execution_count": 22,
     "metadata": {},
     "output_type": "execute_result"
    }
   ],
   "source": [
    "msoa = msoa[msoa.MSOA11CD.str.startswith('E')]\n",
    "msoa.shape"
   ]
  },
  {
   "cell_type": "markdown",
   "metadata": {},
   "source": [
    "join population data"
   ]
  },
  {
   "cell_type": "code",
   "execution_count": 27,
   "metadata": {},
   "outputs": [],
   "source": [
    "test = pd.merge(left=msoa, right=df, how='left', left_on='MSOA11CD', right_on='MSOA Code')"
   ]
  },
  {
   "cell_type": "code",
   "execution_count": 28,
   "metadata": {},
   "outputs": [
    {
     "data": {
      "text/html": [
       "<div>\n",
       "<style scoped>\n",
       "    .dataframe tbody tr th:only-of-type {\n",
       "        vertical-align: middle;\n",
       "    }\n",
       "\n",
       "    .dataframe tbody tr th {\n",
       "        vertical-align: top;\n",
       "    }\n",
       "\n",
       "    .dataframe thead th {\n",
       "        text-align: right;\n",
       "    }\n",
       "</style>\n",
       "<table border=\"1\" class=\"dataframe\">\n",
       "  <thead>\n",
       "    <tr style=\"text-align: right;\">\n",
       "      <th></th>\n",
       "      <th>OBJECTID</th>\n",
       "      <th>MSOA11CD</th>\n",
       "      <th>MSOA11NM</th>\n",
       "      <th>geometry</th>\n",
       "      <th>MSOA Code</th>\n",
       "      <th>MSOA Name</th>\n",
       "      <th>All Ages</th>\n",
       "    </tr>\n",
       "  </thead>\n",
       "  <tbody>\n",
       "    <tr>\n",
       "      <th>0</th>\n",
       "      <td>1</td>\n",
       "      <td>E02000001</td>\n",
       "      <td>City of London 001</td>\n",
       "      <td>POLYGON ((532947.881 181895.061, 533412.520 18...</td>\n",
       "      <td>E02000001</td>\n",
       "      <td>City of London 001</td>\n",
       "      <td>9721</td>\n",
       "    </tr>\n",
       "    <tr>\n",
       "      <th>1</th>\n",
       "      <td>2</td>\n",
       "      <td>E02000002</td>\n",
       "      <td>Barking and Dagenham 001</td>\n",
       "      <td>POLYGON ((549002.599 190873.761, 549122.828 18...</td>\n",
       "      <td>E02000002</td>\n",
       "      <td>Barking and Dagenham 001</td>\n",
       "      <td>7735</td>\n",
       "    </tr>\n",
       "    <tr>\n",
       "      <th>2</th>\n",
       "      <td>3</td>\n",
       "      <td>E02000003</td>\n",
       "      <td>Barking and Dagenham 002</td>\n",
       "      <td>POLYGON ((548956.371 189063.484, 549087.474 18...</td>\n",
       "      <td>E02000003</td>\n",
       "      <td>Barking and Dagenham 002</td>\n",
       "      <td>11174</td>\n",
       "    </tr>\n",
       "    <tr>\n",
       "      <th>3</th>\n",
       "      <td>4</td>\n",
       "      <td>E02000004</td>\n",
       "      <td>Barking and Dagenham 003</td>\n",
       "      <td>POLYGON ((551945.701 186027.855, 551672.764 18...</td>\n",
       "      <td>E02000004</td>\n",
       "      <td>Barking and Dagenham 003</td>\n",
       "      <td>6687</td>\n",
       "    </tr>\n",
       "    <tr>\n",
       "      <th>4</th>\n",
       "      <td>5</td>\n",
       "      <td>E02000005</td>\n",
       "      <td>Barking and Dagenham 004</td>\n",
       "      <td>POLYGON ((549420.553 187442.648, 548985.314 18...</td>\n",
       "      <td>E02000005</td>\n",
       "      <td>Barking and Dagenham 004</td>\n",
       "      <td>10432</td>\n",
       "    </tr>\n",
       "    <tr>\n",
       "      <th>...</th>\n",
       "      <td>...</td>\n",
       "      <td>...</td>\n",
       "      <td>...</td>\n",
       "      <td>...</td>\n",
       "      <td>...</td>\n",
       "      <td>...</td>\n",
       "      <td>...</td>\n",
       "    </tr>\n",
       "    <tr>\n",
       "      <th>6786</th>\n",
       "      <td>6787</td>\n",
       "      <td>E02006930</td>\n",
       "      <td>Greenwich 037</td>\n",
       "      <td>POLYGON ((540585.068 178133.897, 540368.424 17...</td>\n",
       "      <td>E02006930</td>\n",
       "      <td>Greenwich 037</td>\n",
       "      <td>9127</td>\n",
       "    </tr>\n",
       "    <tr>\n",
       "      <th>6787</th>\n",
       "      <td>6788</td>\n",
       "      <td>E02006931</td>\n",
       "      <td>Greenwich 038</td>\n",
       "      <td>POLYGON ((538775.968 177841.277, 539072.243 17...</td>\n",
       "      <td>E02006931</td>\n",
       "      <td>Greenwich 038</td>\n",
       "      <td>9806</td>\n",
       "    </tr>\n",
       "    <tr>\n",
       "      <th>6788</th>\n",
       "      <td>6789</td>\n",
       "      <td>E02006932</td>\n",
       "      <td>Liverpool 060</td>\n",
       "      <td>POLYGON ((335757.632 390987.474, 335739.219 39...</td>\n",
       "      <td>E02006932</td>\n",
       "      <td>Liverpool 060</td>\n",
       "      <td>17515</td>\n",
       "    </tr>\n",
       "    <tr>\n",
       "      <th>6789</th>\n",
       "      <td>6790</td>\n",
       "      <td>E02006933</td>\n",
       "      <td>Liverpool 061</td>\n",
       "      <td>POLYGON ((335096.788 389638.891, 334715.024 38...</td>\n",
       "      <td>E02006933</td>\n",
       "      <td>Liverpool 061</td>\n",
       "      <td>8539</td>\n",
       "    </tr>\n",
       "    <tr>\n",
       "      <th>6790</th>\n",
       "      <td>6791</td>\n",
       "      <td>E02006934</td>\n",
       "      <td>Liverpool 062</td>\n",
       "      <td>POLYGON ((334805.261 391362.101, 334590.333 39...</td>\n",
       "      <td>E02006934</td>\n",
       "      <td>Liverpool 062</td>\n",
       "      <td>8381</td>\n",
       "    </tr>\n",
       "  </tbody>\n",
       "</table>\n",
       "<p>6791 rows × 7 columns</p>\n",
       "</div>"
      ],
      "text/plain": [
       "      OBJECTID   MSOA11CD                  MSOA11NM  \\\n",
       "0            1  E02000001        City of London 001   \n",
       "1            2  E02000002  Barking and Dagenham 001   \n",
       "2            3  E02000003  Barking and Dagenham 002   \n",
       "3            4  E02000004  Barking and Dagenham 003   \n",
       "4            5  E02000005  Barking and Dagenham 004   \n",
       "...        ...        ...                       ...   \n",
       "6786      6787  E02006930             Greenwich 037   \n",
       "6787      6788  E02006931             Greenwich 038   \n",
       "6788      6789  E02006932             Liverpool 060   \n",
       "6789      6790  E02006933             Liverpool 061   \n",
       "6790      6791  E02006934             Liverpool 062   \n",
       "\n",
       "                                               geometry  MSOA Code  \\\n",
       "0     POLYGON ((532947.881 181895.061, 533412.520 18...  E02000001   \n",
       "1     POLYGON ((549002.599 190873.761, 549122.828 18...  E02000002   \n",
       "2     POLYGON ((548956.371 189063.484, 549087.474 18...  E02000003   \n",
       "3     POLYGON ((551945.701 186027.855, 551672.764 18...  E02000004   \n",
       "4     POLYGON ((549420.553 187442.648, 548985.314 18...  E02000005   \n",
       "...                                                 ...        ...   \n",
       "6786  POLYGON ((540585.068 178133.897, 540368.424 17...  E02006930   \n",
       "6787  POLYGON ((538775.968 177841.277, 539072.243 17...  E02006931   \n",
       "6788  POLYGON ((335757.632 390987.474, 335739.219 39...  E02006932   \n",
       "6789  POLYGON ((335096.788 389638.891, 334715.024 38...  E02006933   \n",
       "6790  POLYGON ((334805.261 391362.101, 334590.333 39...  E02006934   \n",
       "\n",
       "                     MSOA Name  All Ages  \n",
       "0           City of London 001      9721  \n",
       "1     Barking and Dagenham 001      7735  \n",
       "2     Barking and Dagenham 002     11174  \n",
       "3     Barking and Dagenham 003      6687  \n",
       "4     Barking and Dagenham 004     10432  \n",
       "...                        ...       ...  \n",
       "6786             Greenwich 037      9127  \n",
       "6787             Greenwich 038      9806  \n",
       "6788             Liverpool 060     17515  \n",
       "6789             Liverpool 061      8539  \n",
       "6790             Liverpool 062      8381  \n",
       "\n",
       "[6791 rows x 7 columns]"
      ]
     },
     "execution_count": 28,
     "metadata": {},
     "output_type": "execute_result"
    }
   ],
   "source": [
    "test"
   ]
  },
  {
   "cell_type": "markdown",
   "metadata": {},
   "source": [
    "### read MSOA population weighted centroids data"
   ]
  },
  {
   "cell_type": "markdown",
   "metadata": {},
   "source": [
    "set population weighted centroids as demand point\n",
    "\n",
    "source:\n",
    "https://geoportal.statistics.gov.uk/datasets/ons::middle-layer-super-output-areas-december-2011-population-weighted-centroids/about"
   ]
  },
  {
   "cell_type": "code",
   "execution_count": 23,
   "metadata": {},
   "outputs": [],
   "source": [
    "demand = gpd.read_file('https://github.com/LingruFeng/dissertation/blob/main/data_raw/MSOA_Population_Weighted_Centroids.gpkg?raw=true')\n",
    "demand = demand.to_crs('epsg:27700')"
   ]
  },
  {
   "cell_type": "markdown",
   "metadata": {},
   "source": [
    "drop useless columns"
   ]
  },
  {
   "cell_type": "code",
   "execution_count": 19,
   "metadata": {},
   "outputs": [
    {
     "data": {
      "text/plain": [
       "(7201,)"
      ]
     },
     "execution_count": 19,
     "metadata": {},
     "output_type": "execute_result"
    }
   ],
   "source": []
  },
  {
   "cell_type": "code",
   "execution_count": null,
   "metadata": {},
   "outputs": [],
   "source": [
    "drop_column = ['MSOA11NMW','BNG_E','BNG_N','LONG','LAT','Shape__Length','Shape__Area']\n",
    "msoa.drop(columns=drop_column, axis=1,inplace=True)"
   ]
  },
  {
   "cell_type": "markdown",
   "metadata": {},
   "source": [
    "filter the data, only leave england data"
   ]
  },
  {
   "cell_type": "code",
   "execution_count": null,
   "metadata": {},
   "outputs": [],
   "source": []
  }
 ],
 "metadata": {
  "kernelspec": {
   "display_name": "Python 3",
   "language": "python",
   "name": "python3"
  },
  "language_info": {
   "codemirror_mode": {
    "name": "ipython",
    "version": 3
   },
   "file_extension": ".py",
   "mimetype": "text/x-python",
   "name": "python",
   "nbconvert_exporter": "python",
   "pygments_lexer": "ipython3",
   "version": "3.7.8"
  }
 },
 "nbformat": 4,
 "nbformat_minor": 4
}
