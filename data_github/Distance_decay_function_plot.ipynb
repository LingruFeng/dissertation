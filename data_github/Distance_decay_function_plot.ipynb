{
 "cells": [
  {
   "cell_type": "markdown",
   "metadata": {},
   "source": [
    "# Distance decay function plot"
   ]
  },
  {
   "cell_type": "code",
   "execution_count": 97,
   "metadata": {},
   "outputs": [],
   "source": [
    "import matplotlib.pyplot as plt\n",
    "import numpy as np\n",
    "import scipy.stats as stats\n",
    "import math\n",
    "from pylab import *"
   ]
  },
  {
   "cell_type": "code",
   "execution_count": 119,
   "metadata": {},
   "outputs": [
    {
     "name": "stderr",
     "output_type": "stream",
     "text": [
      "/opt/conda/envs/sds2020/lib/python3.7/site-packages/ipykernel_launcher.py:19: UserWarning: FixedFormatter should only be used together with FixedLocator\n"
     ]
    },
    {
     "data": {
      "image/png": "[encoded data removed]",
      "text/plain": [
       "<Figure size 288x216 with 1 Axes>"
      ]
     },
     "metadata": {
      "needs_background": "light"
     },
     "output_type": "display_data"
    }
   ],
   "source": [
    "f, ax = plt.subplots(1,figsize=(4, 3))\n",
    "plt.axvline(x=3, color='gray', linestyle='--')\n",
    "mu = 0\n",
    "variance = 1\n",
    "sigma = math.sqrt(variance)\n",
    "x = np.linspace(0, mu + 4*sigma, 100)\n",
    "ax.axes.yaxis.set_visible(False)\n",
    "plt.plot(x, stats.norm.pdf(x, mu, sigma), color='c' ,linewidth=2.5)\n",
    "ax.set_xlim(xmin=0)\n",
    "\n",
    "# change the x labels\n",
    "f.canvas.draw()\n",
    "labels = [item.get_text() for item in ax.get_xticklabels()]\n",
    "labels[0] = '0'\n",
    "labels[1] = '1σ'\n",
    "labels[2] = '2σ'\n",
    "labels[3] = '3σ'\n",
    "labels[4] = '4σ'\n",
    "ax.set_xticklabels(labels,size=15)\n",
    "\n",
    "# set label name\n",
    "ax.set_xlabel(\"Distance cost\",size=20)\n",
    "\n",
    "plt.show()\n",
    "plt.savefig('figure/gaussina_decay', dpi=600,bbox_inches='tight')"
   ]
  },
  {
   "cell_type": "code",
   "execution_count": 118,
   "metadata": {},
   "outputs": [
    {
     "name": "stderr",
     "output_type": "stream",
     "text": [
      "/opt/conda/envs/sds2020/lib/python3.7/site-packages/ipykernel_launcher.py:21: UserWarning: FixedFormatter should only be used together with FixedLocator\n"
     ]
    },
    {
     "data": {
      "image/png": "[encoded data removed]",
      "text/plain": [
       "<Figure size 288x216 with 1 Axes>"
      ]
     },
     "metadata": {
      "needs_background": "light"
     },
     "output_type": "display_data"
    }
   ],
   "source": [
    "f, ax = plt.subplots(1,figsize=(4, 3))\n",
    "x1=[0,2.98]\n",
    "y1=[0.8,0.8]\n",
    "x2=[3.02,4.0]\n",
    "y2=[0.01,0.01]\n",
    "plt.axvline(x=3, color='gray', linestyle='--')\n",
    "plt.plot(x1, y1, color='c' ,linewidth=2.5)\n",
    "plt.plot(x2, y2, color='c', linewidth=2.5)\n",
    "ax.set_xlim(xmin=0,xmax=4.5)\n",
    "ax.set_ylim(ymin=0)\n",
    "ax.axes.yaxis.set_visible(False)\n",
    "\n",
    "# change the x labels\n",
    "f.canvas.draw()\n",
    "labels = [item.get_text() for item in ax.get_xticklabels()]\n",
    "labels[0] = '0'\n",
    "labels[1] = ''\n",
    "labels[2] = ''\n",
    "labels[3] = 'C'\n",
    "labels[4] = ''\n",
    "ax.set_xticklabels(labels,size=15)\n",
    "\n",
    "# set label name\n",
    "ax.set_xlabel(\"Distance cost\",size=20)\n",
    "\n",
    "\n",
    "plt.show()\n",
    "plt.savefig('figure/cutoff_decay', dpi=600,bbox_inches='tight')"
   ]
  },
  {
   "cell_type": "code",
   "execution_count": null,
   "metadata": {},
   "outputs": [],
   "source": []
  },
  {
   "cell_type": "code",
   "execution_count": null,
   "metadata": {},
   "outputs": [],
   "source": []
  }
 ],
 "metadata": {
  "kernelspec": {
   "display_name": "Python 3",
   "language": "python",
   "name": "python3"
  },
  "language_info": {
   "codemirror_mode": {
    "name": "ipython",
    "version": 3
   },
   "file_extension": ".py",
   "mimetype": "text/x-python",
   "name": "python",
   "nbconvert_exporter": "python",
   "pygments_lexer": "ipython3",
   "version": "3.7.8"
  }
 },
 "nbformat": 4,
 "nbformat_minor": 4
}
